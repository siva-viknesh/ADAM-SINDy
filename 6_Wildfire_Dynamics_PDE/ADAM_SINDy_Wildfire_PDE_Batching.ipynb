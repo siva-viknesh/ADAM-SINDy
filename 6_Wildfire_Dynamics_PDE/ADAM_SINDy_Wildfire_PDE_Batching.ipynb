{
 "cells": [
  {
   "cell_type": "markdown",
   "metadata": {
    "id": "7xCNxKkherFg"
   },
   "source": [
    "##### Author  : SIVA VIKNESH\n",
    "##### Email   : siva.viknesh@sci.utah.edu / sivaviknesh14@gmail.com\n",
    "##### Address : SCI INSTITUTE, UNIVERSITY OF UTAH, SALT LAKE CITY, UTAH, USA"
   ]
  },
  {
   "cell_type": "code",
   "execution_count": 1,
   "metadata": {
    "id": "zHzjsUk5ZqyS"
   },
   "outputs": [],
   "source": [
    "import os\n",
    "import torch\n",
    "import math\n",
    "import torch.nn as nn\n",
    "import torch.optim as optim\n",
    "from torch.nn.parameter import Parameter\n",
    "from torch.utils.data import DataLoader, TensorDataset\n",
    "import numpy as np\n",
    "import matplotlib.pyplot as plt\n",
    "from matplotlib import rcParams\n",
    "import matplotlib.ticker as plticker\n",
    "from mpl_toolkits.mplot3d import Axes3D\n",
    "from scipy.linalg import circulant, toeplitz, inv\n",
    "import h5py\n",
    "\n",
    "rcParams.update({'font.size': 18})\n",
    "plt.rcParams['figure.figsize'] = [12, 12]"
   ]
  },
  {
   "cell_type": "markdown",
   "metadata": {
    "id": "l-KM2W-Oe0FP"
   },
   "source": [
    "Asensio & Ferragut: Wildfire combustion model\n",
    "\n",
    "$$\n",
    "\\begin{align}\n",
    "\\frac{\\partial \\overline{T}}{\\partial \\tau} + \\overrightarrow{\\mathbf{V}} \\cdot \\nabla \\overline{T} &= \\overline{\\kappa} \\nabla^2 \\overline{T} + \\beta \\mathrm{e}^{\\overline{T}/(1 + \\epsilon \\overline{T})} - \\alpha \\overline{T} \\\\[6pt]\n",
    "\\frac{\\partial \\beta}{\\partial \\tau} &= -\\hspace{1mm} \\frac{\\epsilon}{q} \\beta \\mathrm{e}^{\\overline{T}/(1 + \\epsilon \\overline{T})}\n",
    "\\end{align}\n",
    "$$\n",
    "\n",
    "Considering the steady uniform wind velocity field along North-East direction : $$\\begin{align}\n",
    "u = V_{mag} \\sin(\\pi/4) , \\hspace{0.2cm} v = V_{mag} \\cos(\\pi/4 ) \n",
    "\\end{align}\n",
    "$$\n",
    "\n",
    "Parameters: \\\\(\\overline{\\kappa}\\\\), \\\\(\\epsilon\\\\), \\\\(\\overrightarrow{\\mathbf{V}}\\\\), \\\\(\\alpha\\\\)"
   ]
  },
  {
   "cell_type": "code",
   "execution_count": 2,
   "metadata": {
    "colab": {
     "base_uri": "https://localhost:8080/",
     "height": 990
    },
    "id": "N1yaJK8baOHw",
    "outputId": "9e6b4a45-a858-4b38-83e0-ffd2c7238e43"
   },
   "outputs": [],
   "source": [
    "xmin =  0.0\n",
    "xmax =  2.0\n",
    "Nx   =  256\n",
    "dx   = (xmax - xmin) / Nx\n",
    "\n",
    "ymin =  0.0\n",
    "ymax =  1.0                                          \n",
    "Ny   =  128\n",
    "dy   = (ymax - ymin) / Ny\n",
    "\n",
    "Vmag    = 10.0\n",
    "t       = 0.0\n",
    "eps     = 3e-1                                           # INVERSE OF ACTIVATION ENERGY\n",
    "q       = 1.0                                            # NON-DIMENSIONAL REACTION HEAT\n",
    "alpha   = 2e-1                                           # NON-DIMENSIONAL NATURAL CONVECTION COEFFICENT\n",
    "kap     = 1.10                                           # DIFFUSION PARAMETER\n",
    "\n",
    "x       = np.linspace(xmin, xmax, num=Nx)\n",
    "y       = np.linspace(ymin, ymax, num=Ny)\n",
    "X, Y    = np.meshgrid(x, y)\n",
    "\n",
    "directory   = os.getcwd()                                # GET THE CURRENT WORKING DIRECTORY  \n",
    "path        = directory + '/' \n",
    "file_name   = path + 'Temperature_data/'\n",
    "Temp_data   = file_name + 'Data_10000.h5'\n",
    "\n",
    "with h5py.File(Temp_data, 'r') as hf:\n",
    "        T = np.array(hf['Temperature'][()])\n",
    "        B = np.array(hf['Fuel'][()])\n",
    "        hf.close()\n"
   ]
  },
  {
   "cell_type": "code",
   "execution_count": 3,
   "metadata": {},
   "outputs": [],
   "source": [
    "def OUCS2(N, h):\n",
    "    d = np.zeros(N)\n",
    "    \n",
    "    a  = -40.0\n",
    "\n",
    "    p33 = 36.0\n",
    "    p32 = p33 / 3.0 - a / 12.0\n",
    "    p34 = p33 / 3.0 + a / 12.0\n",
    "\n",
    "    d[1]  = p32\n",
    "    d[0]  = p33\n",
    "    d[-1] = p34\n",
    "\n",
    "    D1 = circulant(d)\n",
    "\n",
    "    d = np.zeros(N)\n",
    "\n",
    "    q31 = -p33 / 36.0 + a / 72.0\n",
    "    q32 = -7.0 * p33 / 9.0 + a / 9.0\n",
    "    q33 = -a / 4.0\n",
    "    q34 = 7.0 * p33 / 9.0 + a / 9.0\n",
    "    q35 = p33 / 36.0 + a / 72.0\n",
    "\n",
    "    beta1 = 0.020\n",
    "    beta2 = 0.090 \n",
    "\n",
    "    d[-2] = q35\n",
    "    d[-1] = q34\n",
    "    d[0]  = q33\n",
    "    d[1]  = q32\n",
    "    d[2]  = q31\n",
    "\n",
    "    D2 = circulant(d) / h\n",
    "\n",
    "    out = inv(D1) @ D2\n",
    "\n",
    "    out[0:2, :] = 0.0\n",
    "    out[0, :3] = np.array([-3.0, 4.0, -1.0]) / (2.0 * h)\n",
    "    out[1, :5] = np.array([2.0 * beta1 / 3.0 - 1.0 / 3.0, -(8.0 * beta1 / 3.0 + 0.50), 4.0 * beta1 + 1.0, -(8.0 * beta1 / 3.0 + 1.0 / 6.0), 2.0 * beta1 / 3.0])\n",
    "\n",
    "    out[-2:, :] = 0.0\n",
    "    out[-2, -5:] = np.array([-2.0 * beta2 / 3.0, 8.0 * beta2 / 3.0 + 1.0 / 6.0, -(4.0 * beta2 + 1.0), 8.0 * beta2 / 3.0 + 0.50, -(2.0 * beta2 / 3.0 - 1.0 / 3.0)])\n",
    "    out[-1, -3:] = np.array([1.0, -4.0, 3.0]) / (2.0 * h)\n",
    "\n",
    "    return out\n",
    "\n",
    "def CD2(N, h):\n",
    "    a11, a12, a13 =  1.0, 0.0, -1.0 \n",
    "    d = np.zeros(N)\n",
    "    d[-1], d[0], d[1] = a11, a12, a13\n",
    "    D = circulant(d) / (2.0 * h)\n",
    "\n",
    "    D[0, :] = 0.0\n",
    "    D[0, :3] = np.array([-3.0, 4.0, -1.0]) / (2.0 * h)\n",
    "\n",
    "    D[-1, :] = 0.0\n",
    "    D[-1, -3:] = np.array([1.0, -4.0, 3.0]) / (2.0 * h)\n",
    "    \n",
    "    return D\n",
    "\n",
    "def FUEL_SOURCE (u, beta, eps, alpha):                    # F : TEMPERATURE FUEL-REACTION FUNCTION\n",
    "    return  beta * np.exp(u / (1.0 + eps * u)) - alpha * u"
   ]
  },
  {
   "cell_type": "code",
   "execution_count": 4,
   "metadata": {},
   "outputs": [],
   "source": [
    "Vx, Vy    = Vmag*np.sin(np.pi/4), Vmag*np.cos(np.pi/4)\n",
    "\n",
    "Dx        = OUCS2 (Nx, dx)\n",
    "Dy        = OUCS2 (Ny, dy)\n",
    "Dxx       = CD2   (Nx, dx) \n",
    "Dyy       = CD2   (Ny, dy)\n",
    "\n",
    "Tx,  Ty   = np.einsum('ij, kj -> ki', Dx,  T),  np.einsum('ij, jk -> ik', Dy,   T)\n",
    "T1x, T1y  = np.einsum('ij, kj -> ki', Dxx, T),  np.einsum('ij, jk -> ik', Dyy,  T)\n",
    "T2x, T2y  = np.einsum('ij, kj -> ki', Dxx, T1x), np.einsum('ij, jk -> ik', Dyy, T1y)\n",
    "T3x, T3y  = np.einsum('ij, kj -> ki', Dxx, T2x), np.einsum('ij, jk -> ik', Dyy, T2y)\n",
    "T4x, T4y  = np.einsum('ij, kj -> ki', Dxx, T3x), np.einsum('ij, jk -> ik', Dyy, T3y)\n",
    "\n",
    "\n",
    "T, B     = T.reshape  (-1, 1), B.reshape  (-1, 1)\n",
    "Tx, Ty   = Tx.reshape (-1, 1), Ty.reshape (-1, 1)\n",
    "T1x, T1y = T1x.reshape(-1, 1), T1y.reshape(-1, 1)\n",
    "T2x, T2y = T2x.reshape(-1, 1), T2y.reshape(-1, 1)\n",
    "T3x, T3y = T3x.reshape(-1, 1), T3y.reshape(-1, 1)\n",
    "T4x, T4y = T4x.reshape(-1, 1), T4y.reshape(-1, 1)\n",
    "\n",
    "\n",
    "Advection    = Vx*Tx + Vy*Ty\n",
    "Diffusion    = kap*(T2x + T2y)\n",
    "Reaction     = FUEL_SOURCE (T, B, eps, alpha)\n",
    "dT_dt        = Diffusion + Reaction - Advection\n"
   ]
  },
  {
   "cell_type": "code",
   "execution_count": 5,
   "metadata": {
    "colab": {
     "base_uri": "https://localhost:8080/",
     "height": 1000
    },
    "id": "IlUuo65zaiVf",
    "outputId": "d730fa36-f12d-4ed2-c54c-08e13fd76a1b"
   },
   "outputs": [
    {
     "name": "stdout",
     "output_type": "stream",
     "text": [
      "AVAILABLE PROCESSOR: cuda \n",
      "\n"
     ]
    }
   ],
   "source": [
    "processor = torch.device('cuda' if torch.cuda.is_available() else 'cpu')\n",
    "print(\"AVAILABLE PROCESSOR:\", processor, '\\n')\n",
    "\n",
    "N_modes = 1\n",
    "\n",
    "B          = torch.Tensor(B).to(processor)\n",
    "T          = torch.Tensor(T).to(processor)\n",
    "Tx,   Ty   = torch.Tensor(Tx).to(processor),  torch.Tensor(Ty).to(processor)\n",
    "T2x,  T2y  = torch.Tensor(T2x).to(processor), torch.Tensor(T2y).to(processor)\n",
    "T3x,  T3y  = torch.Tensor(T3x).to(processor), torch.Tensor(T3y).to(processor)\n",
    "T4x,  T4y  = torch.Tensor(T4x).to(processor), torch.Tensor(T4y).to(processor)\n",
    "\n",
    "A_candidates =  torch.hstack((T, Tx, Ty, T2x, T2y, T3x, T3y, T4x, T4y)).to(processor)\n",
    "A_derivative =  torch.squeeze((torch.Tensor(dT_dt))).to(processor)\n",
    "\n",
    "# HYPERPARAMETERS FOR THE SINDy METHODOLOGY\"\n",
    "batchsize     = 32768\n",
    "Epochs        = 20000\n",
    "learning_rate = 1e-2\n",
    "step_epoch    = 2000\n",
    "decay_rate    = 0.5\n",
    "tolerance     = 5e-3\n"
   ]
  },
  {
   "cell_type": "code",
   "execution_count": 6,
   "metadata": {
    "id": "z2cTPf8QakhQ"
   },
   "outputs": [],
   "source": [
    "class REACTION_TERM (nn.Module):\n",
    "    def __init__(self, b):\n",
    "        super().__init__()\n",
    "        self.b     = b\n",
    "\n",
    "    def forward(self, x):\n",
    "        fuel   = torch.ones_like (x.detach().clone())\n",
    "        output = fuel *torch.exp(x / (1.0 + self.b * x))\n",
    "        return output"
   ]
  },
  {
   "cell_type": "code",
   "execution_count": 7,
   "metadata": {
    "id": "FU4Ewj09amPh"
   },
   "outputs": [],
   "source": [
    "class ADAPTIVE_SINDy_MODEL(nn.Module):\n",
    "    def __init__(self, a, areact):\n",
    "        super().__init__()\n",
    "        self.a        = a\n",
    "        self.areact   = areact\n",
    "        self.reaction = REACTION_TERM (self.areact)\n",
    "\n",
    "    def forward(self, x):\n",
    "            \n",
    "        derivative    = x [:, 1:]\n",
    "        temperature   = (x [:, 0]).reshape(-1, 1)\n",
    "        reaction      = self.reaction (temperature)\n",
    "        output        = torch.hstack((temperature, derivative, reaction)) @ self.a\n",
    "        \n",
    "        return output\n"
   ]
  },
  {
   "cell_type": "code",
   "execution_count": 8,
   "metadata": {
    "id": "G8--qVx-an2w"
   },
   "outputs": [],
   "source": [
    "# AMPLITUDE COEFFICIENTS OF SINDy MODEL\n",
    "COEFF_ADT   = torch.ones(10, N_modes, requires_grad= True, device= processor)\n",
    "SINE_ADT    = torch.ones(2, N_modes, requires_grad= True, device= processor)\n",
    "COSINE_ADT  = torch.ones(2, N_modes, requires_grad= True, device= processor)\n",
    "REACT_ADT   = torch.ones(1, N_modes, requires_grad= True, device= processor)"
   ]
  },
  {
   "cell_type": "code",
   "execution_count": 9,
   "metadata": {
    "id": "Sdi7oqDNaplE"
   },
   "outputs": [],
   "source": [
    "# BATCH DATA SPLITTING\n",
    "train_load    = DataLoader(TensorDataset(A_derivative, A_candidates),  batch_size=batchsize, shuffle=True,  drop_last = False)\n",
    "\n",
    "# COEFFICIENTS OF SINDy MODEL\n",
    "optim_COEFF_ADT = optim.Adam([COEFF_ADT, REACT_ADT], lr=learning_rate, betas = (0.9,0.99),eps = 10**-15)\n",
    "\n",
    "# WEIGHT FUNCTION OF SINDy MODEL\n",
    "WEIGHTS  = Parameter(torch.ones_like(COEFF_ADT), requires_grad= True)\n",
    "nn.init.normal_(WEIGHTS, mean=0, std=1)\n",
    "Lambda   = Parameter(torch.tensor(1.0), requires_grad= True)\n",
    "\n",
    "optim_weights = optim.Adam([WEIGHTS], lr = learning_rate, betas = (0.9,0.99),eps = 10**-15)\n",
    "optim_Lambda  = optim.Adam([Lambda],  lr = learning_rate, betas = (0.9,0.99),eps = 10**-15)\n",
    "\n",
    "\n",
    "# STEP DECAY DYNAMIC LEARNING RATE\n",
    "scheduler_ADT     = torch.optim.lr_scheduler.StepLR(optim_COEFF_ADT, step_size=step_epoch, gamma=decay_rate)\n",
    "scheduler_weights = torch.optim.lr_scheduler.StepLR(optim_weights,   step_size=step_epoch, gamma=decay_rate)\n",
    "scheduler_LAMBDA  = torch.optim.lr_scheduler.StepLR(optim_Lambda,    step_size=step_epoch, gamma=decay_rate)\n"
   ]
  },
  {
   "cell_type": "code",
   "execution_count": null,
   "metadata": {
    "colab": {
     "base_uri": "https://localhost:8080/"
    },
    "id": "Eng1BK7JarKQ",
    "outputId": "202dfab7-31f4-4d64-b790-f1c5f364abe1",
    "scrolled": false
   },
   "outputs": [],
   "source": [
    "# TEMPORAL MODE 1\n",
    "A1_DT = ADAPTIVE_SINDy_MODEL(COEFF_ADT [:, 0], REACT_ADT [:, 0]).to(processor)\n",
    "\n",
    "Loss_data     = torch.empty(size=(Epochs, 1))\n",
    "loss_function = nn.MSELoss()\n",
    "\n",
    "for epoch in range(Epochs):\n",
    "    loss_epoch = 0.0\n",
    "    for batch_idx, (A_time_deriv, A_cand) in enumerate(train_load):\n",
    "        A1_out       = A1_DT (A_cand)\n",
    "        loss_batch   = loss_function (A_time_deriv, A1_out) + torch.linalg.matrix_norm(torch.abs(WEIGHTS)*COEFF_ADT, ord =1)\n",
    "    \n",
    "        optim_COEFF_ADT.zero_grad()\n",
    "        optim_Lambda.zero_grad()\n",
    "        optim_weights.zero_grad()\n",
    "        loss_batch.backward()\n",
    "\n",
    "        with torch.no_grad():\n",
    "            optim_COEFF_ADT.step()\n",
    "            optim_Lambda.step()\n",
    "            optim_weights.step()\n",
    "        \n",
    "            COEFF_ADT   [torch.abs(COEFF_ADT)   <= tolerance] = 0.0\n",
    "            loss_epoch += loss_batch\n",
    "    \n",
    "    N = batch_idx + 1        \n",
    "    Loss_data [epoch] = (loss_epoch/N).detach()\n",
    "    print('LOSS DATA, [EPOCH =', epoch,  ']:',  Loss_data [epoch].item())\n",
    "    print('LEARNING RATE:', optim_COEFF_ADT.param_groups[0]['lr'])\n",
    "    print (\"*\"*85)\n",
    "       \n",
    "    scheduler_ADT.step()\n",
    "    scheduler_LAMBDA.step()\n",
    "    scheduler_weights.step()"
   ]
  },
  {
   "cell_type": "code",
   "execution_count": null,
   "metadata": {
    "colab": {
     "base_uri": "https://localhost:8080/",
     "height": 401
    },
    "id": "4vmFxKG2atDQ",
    "outputId": "9a006d63-f115-47be-989e-356de42d41cb"
   },
   "outputs": [],
   "source": [
    "threshold = 0.0005\n",
    "#****************************************************************************#\n",
    "loc = plticker.MultipleLocator(base=3) # this locator puts ticks at regular intervals\n",
    "fig, ax = plt.subplots(nrows = 1, ncols = 2, figsize =(14, 4))\n",
    "fig.suptitle('Adaptive SINDy')\n",
    "\n",
    "ax[0].plot(COEFF_ADT [:, 0].detach().cpu().numpy(), 'o')\n",
    "ax[0].set_title('X')\n",
    "ax[0].axhline(y =  threshold, color = 'r', linestyle = '-')\n",
    "ax[0].axhline(y = -threshold, color = 'r', linestyle = '-')\n",
    "ax[0].xaxis.set_major_locator(loc)\n",
    "\n",
    "fig.subplots_adjust(top=0.8)\n",
    "fig.tight_layout()\n",
    "plt.show()\n"
   ]
  },
  {
   "cell_type": "code",
   "execution_count": null,
   "metadata": {
    "colab": {
     "base_uri": "https://localhost:8080/"
    },
    "id": "RLYhTJUSbu5y",
    "outputId": "28063db6-ad42-4738-d5a0-580945a83db7"
   },
   "outputs": [],
   "source": [
    "print(COEFF_ADT  [:, 0])\n",
    "print(REACT_ADT  [:, 0])"
   ]
  },
  {
   "cell_type": "code",
   "execution_count": null,
   "metadata": {
    "colab": {
     "base_uri": "https://localhost:8080/",
     "height": 593
    },
    "id": "ieyP8ooSeNF_",
    "outputId": "73872848-3883-466d-b315-8ba45cf309f0"
   },
   "outputs": [],
   "source": [
    "plt.figure(figsize=(10, 6))\n",
    "plt.plot(Loss_data.numpy(), label='Training Loss')\n",
    "plt.xlabel('Epoch')\n",
    "plt.ylabel('Loss')\n",
    "plt.yscale('log')\n",
    "plt.legend()\n",
    "plt.grid(False)\n",
    "plt.savefig('Loss_plot.jpeg', dpi = 1200)\n",
    "plt.show()"
   ]
  },
  {
   "cell_type": "code",
   "execution_count": null,
   "metadata": {},
   "outputs": [],
   "source": []
  }
 ],
 "metadata": {
  "accelerator": "GPU",
  "colab": {
   "gpuType": "T4",
   "provenance": []
  },
  "kernelspec": {
   "display_name": "Python 3 (ipykernel)",
   "language": "python",
   "name": "python3"
  },
  "language_info": {
   "codemirror_mode": {
    "name": "ipython",
    "version": 3
   },
   "file_extension": ".py",
   "mimetype": "text/x-python",
   "name": "python",
   "nbconvert_exporter": "python",
   "pygments_lexer": "ipython3",
   "version": "3.11.0"
  }
 },
 "nbformat": 4,
 "nbformat_minor": 1
}
