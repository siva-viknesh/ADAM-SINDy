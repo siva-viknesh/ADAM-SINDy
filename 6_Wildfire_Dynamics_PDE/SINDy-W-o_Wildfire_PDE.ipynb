{
 "cells": [
  {
   "cell_type": "markdown",
   "metadata": {
    "id": "lUO4CENTRZkL"
   },
   "source": [
    "<hr style=\"border:2px solid gray\">\n",
    "\n",
    "##### Author  : SIVA VIKNESH \n",
    "##### Email   : siva.viknesh@sci.utah.edu / sivaviknesh14@gmail.com \n",
    "##### Address : SCI INSTITUTE, UNIVERSITY OF UTAH, SALT LAKE CITY, UTAH, USA \n",
    "<hr style=\"border:2px solid gray\">"
   ]
  },
  {
   "cell_type": "code",
   "execution_count": 1,
   "metadata": {},
   "outputs": [],
   "source": [
    "import os\n",
    "import torch\n",
    "import math\n",
    "import numpy as np\n",
    "import matplotlib.pyplot as plt\n",
    "from matplotlib import rcParams\n",
    "import matplotlib.ticker as plticker\n",
    "from mpl_toolkits.mplot3d import Axes3D\n",
    "from scipy import integrate\n",
    "rcParams.update({'font.size': 18})\n",
    "plt.rcParams['figure.figsize'] = [12, 12]\n",
    "from scipy.linalg import circulant, toeplitz, inv\n",
    "import h5py\n",
    "from itertools import combinations\n",
    "np.set_printoptions(threshold=np.inf)\n",
    "np.set_printoptions(suppress=True, precision=15)"
   ]
  },
  {
   "cell_type": "markdown",
   "metadata": {},
   "source": [
    "Asensio & Ferragut: Wildfire combustion model\n",
    "\n",
    "$$\n",
    "\\begin{align}\n",
    "\\frac{\\partial \\overline{T}}{\\partial \\tau} + \\overrightarrow{\\mathbf{V}} \\cdot \\nabla \\overline{T} &= \\overline{\\kappa} \\nabla^2 \\overline{T} + s(\\overline{T})^{+} \\beta \\mathrm{e}^{\\overline{T}/(1 + \\epsilon \\overline{T})} - \\alpha \\overline{T} \\\\[6pt]\n",
    "\\frac{\\partial \\beta}{\\partial \\tau} &= -s(\\overline{T})^{+} \\hspace{1mm} \\frac{\\epsilon}{q} \\beta \\mathrm{e}^{\\overline{T}/(1 + \\epsilon \\overline{T})}\n",
    "\\end{align}\n",
    "$$\n",
    "\n",
    "Considering the steady uniform wind velocity field along North-East direction : $$\\begin{align}\n",
    "u = V_{mag} \\sin(\\pi/4) , \\hspace{0.2cm} v = V_{mag} \\cos(\\pi/4 ) \n",
    "\\end{align}\n",
    "$$\n",
    "\n",
    "Parameters: \\\\(\\overline{\\kappa}\\\\), \\\\(\\epsilon\\\\), \\\\(\\overrightarrow{\\mathbf{V}}\\\\), \\\\(\\alpha\\\\)"
   ]
  },
  {
   "cell_type": "code",
   "execution_count": 2,
   "metadata": {
    "id": "e6RAgd6HRZkO"
   },
   "outputs": [],
   "source": [
    "xmin =  0.0\n",
    "xmax =  2.0\n",
    "Nx   =  256\n",
    "dx   = (xmax - xmin) / Nx\n",
    "\n",
    "ymin =  0.0\n",
    "ymax =  1.0                                          \n",
    "Ny   =  128\n",
    "dy   = (ymax - ymin) / Ny\n",
    "\n",
    "Vmag    = 10.0\n",
    "t       = 0.0\n",
    "eps     = 3e-1                                           # INVERSE OF ACTIVATION ENERGY\n",
    "alpha   = 2e-1                                           # NON-DIMENSIONAL NATURAL CONVECTION COEFFICENT\n",
    "kap     = 1.10                                           # DIFFUSION PARAMETER\n",
    "\n",
    "x       = np.linspace(xmin, xmax, num=Nx)\n",
    "y       = np.linspace(ymin, ymax, num=Ny)\n",
    "X, Y    = np.meshgrid(x, y)\n",
    "\n",
    "directory   = os.getcwd()                                # GET THE CURRENT WORKING DIRECTORY  \n",
    "path        = directory + '/' \n",
    "file_name   = path + 'Temperature_data/'\n",
    "Temp_data   = file_name + 'Data_10000.h5'\n",
    "\n",
    "with h5py.File(Temp_data, 'r') as hf:\n",
    "        T = np.array(hf['Temperature'][()])\n",
    "        B = np.array(hf['Fuel'][()])\n",
    "        hf.close()"
   ]
  },
  {
   "cell_type": "code",
   "execution_count": 3,
   "metadata": {
    "id": "AkeyTCwFRZkO"
   },
   "outputs": [],
   "source": [
    "def OUCS2(N, h):\n",
    "    d = np.zeros(N)\n",
    "    \n",
    "    a  = -40.0\n",
    "\n",
    "    p33 = 36.0\n",
    "    p32 = p33 / 3.0 - a / 12.0\n",
    "    p34 = p33 / 3.0 + a / 12.0\n",
    "\n",
    "    d[1]  = p32\n",
    "    d[0]  = p33\n",
    "    d[-1] = p34\n",
    "\n",
    "    D1 = circulant(d)\n",
    "\n",
    "    d = np.zeros(N)\n",
    "\n",
    "    q31 = -p33 / 36.0 + a / 72.0\n",
    "    q32 = -7.0 * p33 / 9.0 + a / 9.0\n",
    "    q33 = -a / 4.0\n",
    "    q34 = 7.0 * p33 / 9.0 + a / 9.0\n",
    "    q35 = p33 / 36.0 + a / 72.0\n",
    "\n",
    "    beta1 = 0.020\n",
    "    beta2 = 0.090 \n",
    "\n",
    "    d[-2] = q35\n",
    "    d[-1] = q34\n",
    "    d[0]  = q33\n",
    "    d[1]  = q32\n",
    "    d[2]  = q31\n",
    "\n",
    "    D2 = circulant(d) / h\n",
    "\n",
    "    out = inv(D1) @ D2\n",
    "\n",
    "    out[0:2, :] = 0.0\n",
    "    out[0, :3] = np.array([-3.0, 4.0, -1.0]) / (2.0 * h)\n",
    "    out[1, :5] = np.array([2.0 * beta1 / 3.0 - 1.0 / 3.0, -(8.0 * beta1 / 3.0 + 0.50), 4.0 * beta1 + 1.0, -(8.0 * beta1 / 3.0 + 1.0 / 6.0), 2.0 * beta1 / 3.0])\n",
    "\n",
    "    out[-2:, :] = 0.0\n",
    "    out[-2, -5:] = np.array([-2.0 * beta2 / 3.0, 8.0 * beta2 / 3.0 + 1.0 / 6.0, -(4.0 * beta2 + 1.0), 8.0 * beta2 / 3.0 + 0.50, -(2.0 * beta2 / 3.0 - 1.0 / 3.0)])\n",
    "    out[-1, -3:] = np.array([1.0, -4.0, 3.0]) / (2.0 * h)\n",
    "\n",
    "    return out\n",
    "\n",
    "def CD2(N, h):\n",
    "    a11, a12, a13 =  1.0, 0.0, -1.0 \n",
    "    d = np.zeros(N)\n",
    "    d[-1], d[0], d[1] = a11, a12, a13\n",
    "    D = circulant(d) / (2.0 * h)\n",
    "\n",
    "    D[0, :] = 0.0\n",
    "    D[0, :3] = np.array([-3.0, 4.0, -1.0]) / (2.0 * h)\n",
    "\n",
    "    D[-1, :] = 0.0\n",
    "    D[-1, -3:] = np.array([1.0, -4.0, 3.0]) / (2.0 * h)\n",
    "    \n",
    "    return D\n",
    "\n",
    "\n",
    "def FUEL_SOURCE (u, beta, eps, alpha):                    # F : TEMPERATURE FUEL-REACTION FUNCTION\n",
    "    return  beta * np.exp(u / (1.0 + eps * u)) - alpha * u"
   ]
  },
  {
   "cell_type": "code",
   "execution_count": 4,
   "metadata": {},
   "outputs": [],
   "source": [
    "Vx, Vy    = Vmag*np.sin(np.pi/4), Vmag*np.cos(np.pi/4)\n",
    "\n",
    "Dx        = OUCS2 (Nx, dx)\n",
    "Dy        = OUCS2 (Ny, dy)\n",
    "Dxx       = CD2   (Nx, dx) \n",
    "Dyy       = CD2   (Ny, dy)\n",
    "\n",
    "Tx,  Ty   = np.einsum('ij, kj -> ki', Dx,  T),  np.einsum('ij, jk -> ik', Dy,   T)\n",
    "T1x, T1y  = np.einsum('ij, kj -> ki', Dxx, T),  np.einsum('ij, jk -> ik', Dyy,  T)\n",
    "T2x, T2y  = np.einsum('ij, kj -> ki', Dxx, T1x), np.einsum('ij, jk -> ik', Dyy, T1y)\n",
    "T3x, T3y  = np.einsum('ij, kj -> ki', Dxx, T2x), np.einsum('ij, jk -> ik', Dyy, T2y)\n",
    "T4x, T4y  = np.einsum('ij, kj -> ki', Dxx, T3x), np.einsum('ij, jk -> ik', Dyy, T3y)\n",
    "\n",
    "T, B     = T.reshape  (-1, 1), B.reshape  (-1, 1)\n",
    "Tx, Ty   = Tx.reshape (-1, 1), Ty.reshape (-1, 1)\n",
    "T1x, T1y = T1x.reshape(-1, 1), T1y.reshape(-1, 1)\n",
    "T2x, T2y = T2x.reshape(-1, 1), T2y.reshape(-1, 1)\n",
    "T3x, T3y = T3x.reshape(-1, 1), T3y.reshape(-1, 1)\n",
    "T4x, T4y = T4x.reshape(-1, 1), T4y.reshape(-1, 1)\n",
    "\n",
    "Advection    = Vx*Tx + Vy*Ty\n",
    "Diffusion    = kap*(T2x + T2y)\n",
    "Reaction     = FUEL_SOURCE (T, B, eps, alpha)\n",
    "dT_dt        = Diffusion + Reaction - Advection"
   ]
  },
  {
   "cell_type": "code",
   "execution_count": 5,
   "metadata": {
    "id": "O5gb3l0JRZkO"
   },
   "outputs": [],
   "source": [
    "## SINDy Function Definitions\n",
    "def sparsifyDynamics(Theta,dXdt,lamb,n): #Solves SINDy's L1 regularized convex optimization problem\n",
    "    Xi = np.linalg.lstsq(Theta,dXdt,rcond=None)[0] # Initial guess: Least-squares\n",
    "\n",
    "    for k in range(10):\n",
    "        smallinds = np.abs(Xi) < lamb # Find small coefficients\n",
    "        Xi[smallinds] = 0                          # and threshold\n",
    "        for ind in range(n):                       # n is state dimension\n",
    "            biginds = smallinds[:,ind] == 0\n",
    "            # Regress dynamics onto remaining terms to find sparse Xi\n",
    "            Xi[biginds,ind] = np.linalg.lstsq(Theta[:,biginds],dXdt[:,ind],rcond=None)[0]\n",
    "\n",
    "    return Xi"
   ]
  },
  {
   "cell_type": "code",
   "execution_count": 6,
   "metadata": {
    "id": "-qz9LIfXRZkP",
    "outputId": "2f1964a4-5df5-4f7a-dfaa-71f36cb57f99"
   },
   "outputs": [],
   "source": [
    "eps = [0.2, 0.4]\n",
    "\n",
    "Reaction_term        = FUEL_SOURCE (T, B, eps, 0.0)\n",
    "All_candidates       = np.hstack((T, Tx, Ty, T2x, T2y, T3x, T3y, T4x, T4y, Reaction_term))\n"
   ]
  },
  {
   "cell_type": "markdown",
   "metadata": {},
   "source": [
    "**Considering all the candidates in the optimization**"
   ]
  },
  {
   "cell_type": "code",
   "execution_count": 7,
   "metadata": {},
   "outputs": [
    {
     "data": {
      "image/png": "[encoded data removed]",
      "text/plain": [
       "<Figure size 1400x400 with 1 Axes>"
      ]
     },
     "metadata": {},
     "output_type": "display_data"
    },
    {
     "name": "stdout",
     "output_type": "stream",
     "text": [
      "[[-0.193242008508018]\n",
      " [-7.071070012558542]\n",
      " [-7.071078400203441]\n",
      " [ 1.100004916337128]\n",
      " [ 1.100004908911591]\n",
      " [ 0.               ]\n",
      " [ 0.               ]\n",
      " [ 0.               ]\n",
      " [ 0.               ]\n",
      " [ 0.186668123435053]\n",
      " [ 0.817144833992933]]\n"
     ]
    }
   ],
   "source": [
    "lamb = 0.01 # sparsification knob lambda\n",
    "coeff_matrix = sparsifyDynamics(All_candidates, dT_dt, lamb, 1)\n",
    "\n",
    "#****************************************************************************#\n",
    "loc = plticker.MultipleLocator(base=3) # this locator puts ticks at regular intervals\n",
    "fig, ax = plt.subplots(nrows = 1, ncols = 1, figsize =(14, 4))\n",
    "fig.suptitle('SINDy')\n",
    "\n",
    "ax.plot(coeff_matrix, 'o') \n",
    "ax.set_title('X')\n",
    "ax.xaxis.set_major_locator(loc)\n",
    "\n",
    "fig.subplots_adjust(top=0.8)\n",
    "fig.tight_layout()\n",
    "plt.show()\n",
    "\n",
    "print(coeff_matrix)\n"
   ]
  },
  {
   "cell_type": "code",
   "execution_count": null,
   "metadata": {},
   "outputs": [],
   "source": []
  }
 ],
 "metadata": {
  "colab": {
   "provenance": []
  },
  "kernelspec": {
   "display_name": "Python 3 (ipykernel)",
   "language": "python",
   "name": "python3"
  },
  "language_info": {
   "codemirror_mode": {
    "name": "ipython",
    "version": 3
   },
   "file_extension": ".py",
   "mimetype": "text/x-python",
   "name": "python",
   "nbconvert_exporter": "python",
   "pygments_lexer": "ipython3",
   "version": "3.11.0"
  }
 },
 "nbformat": 4,
 "nbformat_minor": 1
}
